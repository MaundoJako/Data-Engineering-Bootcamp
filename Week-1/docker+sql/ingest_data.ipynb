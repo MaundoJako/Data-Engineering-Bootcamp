{
 "cells": [
  {
   "cell_type": "code",
   "execution_count": 1,
   "id": "e487433b-733f-463f-bf0f-18506b99bdb6",
   "metadata": {},
   "outputs": [],
   "source": [
    "import os\n",
    "import argparse\n",
    "from time import time\n",
    "import pandas as pd\n",
    "from sqlalchemy import create_engine"
   ]
  },
  {
   "cell_type": "code",
   "execution_count": 4,
   "id": "e6ce0ad0-959c-4f9a-8fbf-f6bd3f911dfc",
   "metadata": {},
   "outputs": [],
   "source": [
    "def main(params):\n",
    "    user = params.user\n",
    "    password = params.password\n",
    "    host = params.host \n",
    "    port = params.port \n",
    "    db = params.db\n",
    "    table_name = params.table_name\n",
    "    url = params.url\n",
    "    \n",
    "    # the backup files are gzipped, and it's important to keep the correct extension\n",
    "    # for pandas to be able to open the file\n",
    "    if url.endswith('.csv.gz'):\n",
    "        csv_name = 'output.csv.gz'\n",
    "    else:\n",
    "        csv_name = 'output.csv'\n",
    "\n",
    "    os.system(f\"curl {url} -O {csv_name}\")\n",
    "\n",
    "    engine = create_engine(f'postgresql://{user}:{password}@{host}:{port}/{db}')\n",
    "\n",
    "    df_iter = pd.read_csv(csv_name, iterator=True, chunksize=100000)\n",
    "\n",
    "    df = next(df_iter)\n",
    "\n",
    "    df.lpep_pickup_datetime = pd.to_datetime(df.lpep_pickup_datetime)\n",
    "    df.lpep_dropoff_datetime = pd.to_datetime(df.lpep_dropoff_datetime)\n",
    "\n",
    "    df.head(n=0).to_sql(name=table_name, con=engine, if_exists='replace')\n",
    "\n",
    "    df.to_sql(name=table_name, con=engine, if_exists='append')\n",
    "\n",
    "\n",
    "    while True: \n",
    "\n",
    "        try:\n",
    "            t_start = time()\n",
    "            \n",
    "            df = next(df_iter)\n",
    "\n",
    "            df.lpep_pickup_datetime = pd.to_datetime(df.lpep_pickup_datetime)\n",
    "            df.lpep_dropoff_datetime = pd.to_datetime(df.lpep_dropoff_datetime)\n",
    "\n",
    "            df.to_sql(name=table_name, con=engine, if_exists='append')\n",
    "\n",
    "            t_end = time()\n",
    "\n",
    "            print('inserted another chunk, took %.3f second' % (t_end - t_start))\n",
    "\n",
    "        except StopIteration:\n",
    "            print(\"Finished ingesting data into the postgres database\")\n",
    "            break\n"
   ]
  },
  {
   "cell_type": "code",
   "execution_count": 6,
   "id": "c3c313cc-550e-4719-b595-5f96bf49816d",
   "metadata": {},
   "outputs": [
    {
     "name": "stderr",
     "output_type": "stream",
     "text": [
      "usage: ipykernel_launcher.py [-h] --user USER --password PASSWORD --host HOST\n",
      "                             --port PORT --db DB --table_name TABLE_NAME --url\n",
      "                             URL\n",
      "ipykernel_launcher.py: error: the following arguments are required: --user, --password, --host, --port, --db, --table_name, --url\n"
     ]
    },
    {
     "ename": "SystemExit",
     "evalue": "2",
     "output_type": "error",
     "traceback": [
      "An exception has occurred, use %tb to see the full traceback.\n",
      "\u001b[0;31mSystemExit\u001b[0m\u001b[0;31m:\u001b[0m 2\n"
     ]
    }
   ],
   "source": [
    "if __name__ == '__main__':\n",
    "    parser = argparse.ArgumentParser(description='Ingest CSV data to Postgres')\n",
    "\n",
    "    parser.add_argument('--user', required=True, help='user name for postgres')\n",
    "    parser.add_argument('--password', required=True, help='password for postgres')\n",
    "    parser.add_argument('--host', required=True, help='host for postgres')\n",
    "    parser.add_argument('--port', required=True, help='port for postgres')\n",
    "    parser.add_argument('--db', required=True, help='database name for postgres')\n",
    "    parser.add_argument('--table_name', required=True, help='name of the table where we will write the results to')\n",
    "    parser.add_argument('--url', required=True, help='url of the csv file')\n",
    "\n",
    "    args = parser.parse_args()\n",
    "\n",
    "    main(args)"
   ]
  },
  {
   "cell_type": "code",
   "execution_count": null,
   "id": "abac5bda-960a-47b3-9dd1-d30d518014f0",
   "metadata": {},
   "outputs": [],
   "source": []
  }
 ],
 "metadata": {
  "kernelspec": {
   "display_name": "Python 3 (ipykernel)",
   "language": "python",
   "name": "python3"
  },
  "language_info": {
   "codemirror_mode": {
    "name": "ipython",
    "version": 3
   },
   "file_extension": ".py",
   "mimetype": "text/x-python",
   "name": "python",
   "nbconvert_exporter": "python",
   "pygments_lexer": "ipython3",
   "version": "3.10.6"
  }
 },
 "nbformat": 4,
 "nbformat_minor": 5
}
